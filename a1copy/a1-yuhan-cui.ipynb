{
 "cells": [
  {
   "cell_type": "markdown",
   "metadata": {},
   "source": [
    "\n",
    "### Sketch 1: Stacked Bar Chart Comparison\n",
    "![Sketch 1 Image](images/img1.jpg)\n",
    "- **Description**: This stacked bar chart provides a clear comparison of population distribution across different age groups for two distinct years. It highlights the total population changes and relative sizes of each age group in a straightforward manner. However, it may be challenging to discern exact numerical differences between age groups, especially when there are many. The chart can also become cluttered if it includes a large number of age groups, potentially complicating the interpretation.\n",
    "\n",
    "### Sketch 2: Pie Chart Comparison for 1900\n",
    "![Sketch 2 Image](images/img3.jpg)\n",
    "- **Description**: The pie chart is designed to offer an intuitive understanding of the proportional distribution of various age groups in the year 1900. It effectively demonstrates how each segment contributes to the whole population, making it simple to visualize the relative sizes. However, the pie chart falls short in providing precise comparisons between the sizes of different segments and does not track changes over time, limiting its use in dynamic or temporal analyses.\n",
    "\n",
    "### Sketch 3: Line Graphs for Select Age Groups\n",
    "![Sketch 3 Image](images/img2.jpg)\n",
    "- **Description**: These line graphs focus on selected age groups, depicting their population changes between 1900 and 2000. This format excels in showing trends and developments over time, highlighting increases or decreases in each age group's population. Nevertheless, it does not present a complete overview of the entire population structure and can make direct numerical comparisons between different age groups challenging, especially if the trends are complex or subtle.\n",
    "\n",
    "## Reflection\n",
    "\n",
    "### Comparative Analysis\n",
    "Each visualization offers unique insights and limitations. The Stacked Bar Chart shows overall population distribution effectively but struggles with many age groups. The Pie Chart excels in showing proportional data within a single year but lacks temporal representation. The Line Graphs are great for tracking age group trends over time but don't provide a complete population overview. A synthesis of these methods could potentially offer a more comprehensive view, combining the strengths of each approach.\n",
    "\n",
    "## Conclusion\n",
    "\n",
    "### Final Thoughts\n",
    "This exercise in sketching visualizations demonstrates the importance of choosing the right type of chart to convey specific data insights. While each style has its merits, understanding their limitations is crucial in accurately representing and interpreting data. This process highlights the value of thoughtful visualization in making complex data more accessible and informative."
   ]
  },
  {
   "cell_type": "code",
   "execution_count": null,
   "metadata": {},
   "outputs": [],
   "source": []
  }
 ],
 "metadata": {
  "language_info": {
   "name": "python"
  }
 },
 "nbformat": 4,
 "nbformat_minor": 2
}
